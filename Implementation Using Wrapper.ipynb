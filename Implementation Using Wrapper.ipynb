{
 "cells": [
  {
   "cell_type": "code",
   "execution_count": 1,
   "id": "e6b468e6",
   "metadata": {},
   "outputs": [
    {
     "name": "stdout",
     "output_type": "stream",
     "text": [
      "{'drop_columns': [{'df_before':    A  B\n",
      "0  1  3\n",
      "1  2  4, 'args': (   A  B\n",
      "0  1  3\n",
      "1  2  4, ['A']), 'kwargs': {}, 'df_after':    B\n",
      "0  3\n",
      "1  4}], 'rename_columns': [{'df_before':    B\n",
      "0  3\n",
      "1  4, 'args': (   B\n",
      "0  3\n",
      "1  4, {'B': 'C'}), 'kwargs': {}, 'df_after':    C\n",
      "0  3\n",
      "1  4}, {'df_before':    C\n",
      "0  3\n",
      "1  4, 'args': (   C\n",
      "0  3\n",
      "1  4, {'C': 'Jainam'}), 'kwargs': {}, 'df_after':    Jainam\n",
      "0       3\n",
      "1       4}]}\n"
     ]
    }
   ],
   "source": [
    "import pandas as pd\n",
    "from functools import wraps\n",
    "\n",
    "\n",
    "transform_log = {}\n",
    "\n",
    "def log_transform(func):\n",
    "    @wraps(func)\n",
    "    def wrapper(*args, **kwargs):\n",
    "        data = args[0]\n",
    "        transform_name = func.__name__\n",
    "        \n",
    " \n",
    "        if transform_name not in transform_log:\n",
    "            transform_log[transform_name] = []\n",
    "        \n",
    "\n",
    "        transform_info = {\n",
    "            \"df_before\": data.copy(),\n",
    "            \"args\": args,\n",
    "            \"kwargs\": kwargs\n",
    "        }\n",
    "        \n",
    "        result = func(*args, **kwargs)\n",
    "        \n",
    "\n",
    "        transform_info[\"df_after\"] = result.copy()\n",
    "        \n",
    "\n",
    "        transform_log[transform_name].append(transform_info)\n",
    "        \n",
    "        return result\n",
    "    return wrapper\n",
    "\n",
    "@log_transform\n",
    "def drop_columns(df, cols_to_drop):\n",
    "    return df.drop(columns=cols_to_drop)\n",
    "\n",
    "@log_transform  \n",
    "def rename_columns(df, rename_dict):\n",
    "    return df.rename(columns=rename_dict)\n",
    "\n",
    "# Test Example\n",
    "\n",
    "df = pd.DataFrame({\"A\": [1, 2], \"B\": [3, 4]}) \n",
    "\n",
    "df = drop_columns(df, [\"A\"])\n",
    "df = rename_columns(df, {\"B\": \"C\"})\n",
    "\n",
    "df = rename_columns(df, {\"C\": \"Jainam\"})\n",
    "\n",
    "\n",
    "print(transform_log)"
   ]
  },
  {
   "cell_type": "code",
   "execution_count": 18,
   "id": "a0ec8634",
   "metadata": {},
   "outputs": [],
   "source": [
    "def save_log_to_file():\n",
    "    # File path\n",
    "    log_file_path = \"transform_log.txt\"\n",
    "\n",
    "    # Open the text file for writing\n",
    "    with open(log_file_path, \"w\") as log_file:\n",
    "        for transform_name, history_list in transform_log.items():\n",
    "            log_file.write(f\"Transformation: {transform_name}\\n\")\n",
    "\n",
    "            for index, transform_info in enumerate(history_list, start=1):\n",
    "                log_file.write(f\"  Transformation #{index}:\\n\")\n",
    "                log_file.write(\"  Arguments:\\n\")\n",
    "                for arg in transform_info[\"args\"]:\n",
    "                    log_file.write(f\"    {arg}\\n\")\n",
    "                log_file.write(\"Keyword Arguments:\\n\")\n",
    "                for key, value in transform_info[\"kwargs\"].items():\n",
    "                    log_file.write(f\"    {key}: {value}\\n\")\n",
    "                log_file.write(\"DataFrame Before:\\n\")\n",
    "                log_file.write(f\"{transform_info['df_before']}\\n\")\n",
    "                log_file.write(\"DataFrame After:\\n\")\n",
    "                log_file.write(f\"{transform_info['df_after']}\\n\")\n",
    "                log_file.write(\"\\n\")\n",
    "\n",
    "    print(f\"Transform log saved to {log_file_path}\")"
   ]
  },
  {
   "cell_type": "code",
   "execution_count": 13,
   "id": "53dc7d69",
   "metadata": {},
   "outputs": [
    {
     "data": {
      "text/html": [
       "<div>\n",
       "<style scoped>\n",
       "    .dataframe tbody tr th:only-of-type {\n",
       "        vertical-align: middle;\n",
       "    }\n",
       "\n",
       "    .dataframe tbody tr th {\n",
       "        vertical-align: top;\n",
       "    }\n",
       "\n",
       "    .dataframe thead th {\n",
       "        text-align: right;\n",
       "    }\n",
       "</style>\n",
       "<table border=\"1\" class=\"dataframe\">\n",
       "  <thead>\n",
       "    <tr style=\"text-align: right;\">\n",
       "      <th></th>\n",
       "      <th>Jainam</th>\n",
       "    </tr>\n",
       "  </thead>\n",
       "  <tbody>\n",
       "    <tr>\n",
       "      <th>0</th>\n",
       "      <td>3</td>\n",
       "    </tr>\n",
       "    <tr>\n",
       "      <th>1</th>\n",
       "      <td>4</td>\n",
       "    </tr>\n",
       "  </tbody>\n",
       "</table>\n",
       "</div>"
      ],
      "text/plain": [
       "   Jainam\n",
       "0       3\n",
       "1       4"
      ]
     },
     "execution_count": 13,
     "metadata": {},
     "output_type": "execute_result"
    }
   ],
   "source": [
    "df"
   ]
  },
  {
   "cell_type": "code",
   "execution_count": 14,
   "id": "0fba82bf",
   "metadata": {},
   "outputs": [
    {
     "data": {
      "text/plain": [
       "{'df_before':    C\n",
       " 0  3\n",
       " 1  4,\n",
       " 'args': (   C\n",
       "  0  3\n",
       "  1  4,\n",
       "  {'C': 'Jainam'}),\n",
       " 'kwargs': {},\n",
       " 'df_after':    Jainam\n",
       " 0       3\n",
       " 1       4}"
      ]
     },
     "execution_count": 14,
     "metadata": {},
     "output_type": "execute_result"
    }
   ],
   "source": [
    "transform_info"
   ]
  },
  {
   "cell_type": "code",
   "execution_count": 15,
   "id": "0d558d1a",
   "metadata": {},
   "outputs": [
    {
     "data": {
      "text/plain": [
       "{'drop_columns': [{'df_before':    A  B\n",
       "   0  1  3\n",
       "   1  2  4,\n",
       "   'args': (   A  B\n",
       "    0  1  3\n",
       "    1  2  4,\n",
       "    ['A']),\n",
       "   'kwargs': {},\n",
       "   'df_after':    B\n",
       "   0  3\n",
       "   1  4}],\n",
       " 'rename_columns': [{'df_before':    B\n",
       "   0  3\n",
       "   1  4,\n",
       "   'args': (   B\n",
       "    0  3\n",
       "    1  4,\n",
       "    {'B': 'C'}),\n",
       "   'kwargs': {},\n",
       "   'df_after':    C\n",
       "   0  3\n",
       "   1  4},\n",
       "  {'df_before':    C\n",
       "   0  3\n",
       "   1  4,\n",
       "   'args': (   C\n",
       "    0  3\n",
       "    1  4,\n",
       "    {'C': 'Jainam'}),\n",
       "   'kwargs': {},\n",
       "   'df_after':    Jainam\n",
       "   0       3\n",
       "   1       4}]}"
      ]
     },
     "execution_count": 15,
     "metadata": {},
     "output_type": "execute_result"
    }
   ],
   "source": [
    "transform_log\n"
   ]
  },
  {
   "cell_type": "code",
   "execution_count": 16,
   "id": "319b0779",
   "metadata": {},
   "outputs": [],
   "source": [
    "df = rename_columns(df, {\"Jainam\": \"Gala\"})"
   ]
  },
  {
   "cell_type": "code",
   "execution_count": 19,
   "id": "fb2f1fc5",
   "metadata": {},
   "outputs": [
    {
     "name": "stdout",
     "output_type": "stream",
     "text": [
      "Transform log saved to transform_log.txt\n"
     ]
    }
   ],
   "source": [
    "save_log_to_file()"
   ]
  },
  {
   "cell_type": "code",
   "execution_count": 1,
   "id": "e506b753",
   "metadata": {
    "scrolled": true
   },
   "outputs": [
    {
     "ename": "NameError",
     "evalue": "name 'df' is not defined",
     "output_type": "error",
     "traceback": [
      "\u001b[1;31m---------------------------------------------------------------------------\u001b[0m",
      "\u001b[1;31mNameError\u001b[0m                                 Traceback (most recent call last)",
      "Input \u001b[1;32mIn [1]\u001b[0m, in \u001b[0;36m<cell line: 1>\u001b[1;34m()\u001b[0m\n\u001b[1;32m----> 1\u001b[0m \u001b[43mdf\u001b[49m\n",
      "\u001b[1;31mNameError\u001b[0m: name 'df' is not defined"
     ]
    }
   ],
   "source": [
    "df"
   ]
  },
  {
   "cell_type": "code",
   "execution_count": null,
   "id": "ebc12c09",
   "metadata": {},
   "outputs": [],
   "source": []
  }
 ],
 "metadata": {
  "kernelspec": {
   "display_name": "Python 3 (ipykernel)",
   "language": "python",
   "name": "python3"
  },
  "language_info": {
   "codemirror_mode": {
    "name": "ipython",
    "version": 3
   },
   "file_extension": ".py",
   "mimetype": "text/x-python",
   "name": "python",
   "nbconvert_exporter": "python",
   "pygments_lexer": "ipython3",
   "version": "3.10.7"
  }
 },
 "nbformat": 4,
 "nbformat_minor": 5
}
